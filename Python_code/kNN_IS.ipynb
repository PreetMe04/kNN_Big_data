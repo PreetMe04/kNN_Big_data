{
  "cells": [
    {
      "cell_type": "code",
      "execution_count": 1,
      "metadata": {
        "colab": {
          "base_uri": "https://localhost:8080/"
        },
        "id": "DuKCH-T2jp0R",
        "outputId": "df4b5e1b-3915-4bbf-bb61-67735964b47c"
      },
      "outputs": [
        {
          "output_type": "stream",
          "name": "stdout",
          "text": [
            "\u001b[K     |████████████████████████████████| 281.4 MB 47 kB/s \n",
            "\u001b[K     |████████████████████████████████| 199 kB 54.8 MB/s \n",
            "\u001b[?25h  Building wheel for pyspark (setup.py) ... \u001b[?25l\u001b[?25hdone\n"
          ]
        }
      ],
      "source": [
        "!pip install --quiet pyspark"
      ]
    },
    {
      "cell_type": "code",
      "execution_count": 2,
      "metadata": {
        "id": "6d0e_IFtswTB"
      },
      "outputs": [],
      "source": [
        "import numpy as np\n",
        "import heapq\n",
        "from heapq import heapify, heappush, heappop\n",
        "import collections\n",
        "import csv\n",
        "import sys"
      ]
    },
    {
      "cell_type": "code",
      "execution_count": 3,
      "metadata": {
        "id": "pD_Uf6OFjrnP"
      },
      "outputs": [],
      "source": [
        "from pyspark import SparkContext, SparkConf\n",
        "conf = SparkConf().setAppName(\"word count\").setMaster(\"local\")\n",
        "sc = SparkContext(conf=conf)"
      ]
    },
    {
      "cell_type": "code",
      "execution_count": 4,
      "metadata": {
        "colab": {
          "base_uri": "https://localhost:8080/"
        },
        "id": "HDCMEvQnjuN2",
        "outputId": "c132b59c-92c3-4ae5-8269-03997ceb661a"
      },
      "outputs": [
        {
          "output_type": "stream",
          "name": "stdout",
          "text": [
            "Mounted at /content/drive\n"
          ]
        }
      ],
      "source": [
        "from google.colab import drive\n",
        "drive.mount('/content/drive')"
      ]
    },
    {
      "cell_type": "code",
      "execution_count": 5,
      "metadata": {
        "id": "aVzr0TH2B2kX"
      },
      "outputs": [],
      "source": [
        "train_ds = '/content/drive/MyDrive/datasets/Datasets/traindata_medium.csv'\n",
        "test_ds =  '/content/drive/MyDrive/datasets/Datasets/test_set_med.csv'\n",
        "\n",
        "#  different size of data that we have used for the experiments :\n",
        "\n",
        "# train_ds = '/content/drive/MyDrive/datasets/Datasets/train_set.csv'\n",
        "# test_ds =  '/content/drive/MyDrive/datasets/Datasets/test_set_small.csv'\n",
        "# test_ds = '/content/drive/MyDrive/datasets/Datasets/test_set_medium.csv'\n",
        "# test_ds = '/content/drive/MyDrive/datasets/Datasets/test_set_large1.csv'\n",
        "# test_ds = '/content/drive/MyDrive/datasets/Datasets/test_set_large2.csv'\n",
        "\n",
        "#  (curr-min(col))/(max(col) - min(col))"
      ]
    },
    {
      "cell_type": "code",
      "execution_count": 6,
      "metadata": {
        "colab": {
          "base_uri": "https://localhost:8080/"
        },
        "id": "BScBuYCLjwkW",
        "outputId": "e14ab1d8-0560-42c3-e350-f77c8330ffd2"
      },
      "outputs": [
        {
          "output_type": "stream",
          "name": "stdout",
          "text": [
            "[4.0, 13.0, 4.0, 13.0, 4.0, 13.0, 4.0, 13.0, 4.0, 13.0, 6.0]\n",
            "[1.0, 1.0, 1.0, 1.0, 1.0, 1.0, 1.0, 1.0, 1.0, 1.0, 0.0]\n",
            "[4.0, 13.0, 4.0, 13.0, 4.0, 13.0, 4.0, 13.0, 4.0, 13.0]\n",
            "[1.0, 1.0, 1.0, 1.0, 1.0, 1.0, 1.0, 1.0, 1.0, 1.0]\n"
          ]
        }
      ],
      "source": [
        "#  for the normalization : find maximum and minimum values for each feature\n",
        "mx_val_tr = [] \n",
        "mn_val_tr = []\n",
        "mx_val_ts = []\n",
        "mn_val_ts = []\n",
        "numTrainSamples = 0\n",
        "numTestSamples = 0\n",
        "# opening the CSV file\n",
        "with open(train_ds, mode ='r')as file:\n",
        "   \n",
        "  # reading the CSV file\n",
        "  csvFile = csv.reader(file)\n",
        "  enter = False\n",
        "\n",
        "  # displaying the contents of the CSV file\n",
        "  for row_list in csvFile:\n",
        "      if(row_list[0][0].isdigit()): \n",
        "        numTrainSamples += 1  # calculating no of rows\n",
        "        for i in range(0,len(row_list)): # iterating over rows\n",
        "          if(enter==False):\n",
        "            mx_val_tr.append(float(row_list[i]))\n",
        "            mn_val_tr.append(float(row_list[i]))\n",
        "          else:\n",
        "            mx_val_tr[i] = max(mx_val_tr[i],float(row_list[i])) # updating maximum value for ith column\n",
        "            mn_val_tr[i] = min(mn_val_tr[i],float(row_list[i])) # updating minimum value for ith column\n",
        "        enter = True\n",
        "\n",
        "with open(test_ds, mode ='r')as file:\n",
        "   \n",
        "  # reading the CSV file\n",
        "  csvFile = csv.reader(file)\n",
        "  enter = False\n",
        "\n",
        "  # displaying the contents of the CSV file\n",
        "  for row_list in csvFile:\n",
        "    if(row_list[0].isdigit()):\n",
        "      numTestSamples += 1 # calculating no of rows\n",
        "      for i in range(1,len(row_list)): # iterating over rows\n",
        "        if(enter==False):\n",
        "          mx_val_ts.append(float(row_list[i]))\n",
        "          mn_val_ts.append(float(row_list[i]))\n",
        "        else:\n",
        "          mx_val_ts[i-1] = max(mx_val_ts[i-1],float(row_list[i])) # updating maximum value for ith column\n",
        "          mn_val_ts[i-1] = min(mn_val_ts[i-1],float(row_list[i])) # updating minimum value for ith column\n",
        "      enter = True\n",
        "\n",
        "#  get maximum and minimum for each column of the datasets\n",
        "print(mx_val_tr)\n",
        "print(mn_val_tr)\n",
        "print(mx_val_ts)\n",
        "print(mn_val_ts)"
      ]
    },
    {
      "cell_type": "code",
      "execution_count": 7,
      "metadata": {
        "id": "qAZKT0i4jz1u"
      },
      "outputs": [],
      "source": [
        "#  normalization function for the training and test dataset\n",
        "#  using the formula : (curr_val[i] -min(ith column))/(max(ith column) - min(ith column))\n",
        "\n",
        "def normalize_tr(row,mn_val_tr,mx_val_tr):\n",
        "    row_list = row.split(\",\")\n",
        "    list_ans = []\n",
        "    if(row_list[0][0].isdigit()):\n",
        "      list_ans.append(int(row_list[-1])) # put first entry as hand for the simplicity\n",
        "      for i in range(0,len(row_list)): # iterating over each row and normalizing it\n",
        "        list_ans.append((float(row_list[i]) - mn_val_tr[i])/(mx_val_tr[i]-mn_val_tr[i]))\n",
        "    return list_ans\n",
        "\n",
        "def normalize_ts(row,mn_val_ts,mx_val_ts):\n",
        "    row_list = row.split(\",\")\n",
        "    list_ans = []\n",
        "    if(row_list[0][0].isdigit()):\n",
        "      list_ans.append(int(row_list[0])) # put first entry as test id for the simplicity\n",
        "      for i in range(1,len(row_list)): # iterating over each row and normalizing it\n",
        "        list_ans.append((float(row_list[i]) - mn_val_ts[i-1])/(mx_val_ts[i-1]-mn_val_ts[i-1]))\n",
        "    return list_ans"
      ]
    },
    {
      "cell_type": "code",
      "execution_count": 8,
      "metadata": {
        "id": "3ZuwRHh7j7Ec"
      },
      "outputs": [],
      "source": [
        "# different number of mappers\n",
        "# number_map = 10\n",
        "number_map = 50\n",
        "# number_map = 100\n",
        "# number_map = 200\n",
        "\n",
        "numFeatures = 10 # number of columns used to find euclidean distance\n",
        "\n",
        "tr_rdd_raw = sc.textFile(train_ds,number_map)\n",
        "ts_rdd_raw = sc.textFile(test_ds)\n",
        "\n",
        "#  normalizing the both dataset\n",
        "tr_rdd = tr_rdd_raw.map(lambda line : normalize_tr(line,mn_val_tr,mx_val_tr)).cache()\n",
        "ts_rdd = ts_rdd_raw.map(lambda line : normalize_ts(line,mn_val_ts,mx_val_ts)).cache()\n",
        "\n",
        "# print(ts_rdd.take(100))"
      ]
    },
    {
      "cell_type": "code",
      "execution_count": 9,
      "metadata": {
        "id": "KDQCWap4pZOd"
      },
      "outputs": [],
      "source": [
        "#  prefine function taken from github repository\n",
        "def calIter(numTrainSmps,numTestSmps,memAllow):\n",
        "  numIterations = 0;\n",
        "  weightTrain = (8 * numTrainSmps * numFeatures) / (number_map * 1024.0 * 1024.0)\n",
        "  weightTest = (8 * numTestSmps * numFeatures) / (1024.0 * 1024.0)\n",
        "  # print(weightTrain,\" \",weightTest)\n",
        "  if (weightTrain + weightTest < memAllow * 1024.0):\n",
        "        numIterations = 1\n",
        "  else: \n",
        "    if (weightTrain >= memAllow * 1024.0):\n",
        "      print(\"Train wight bigger than lim-task. Abort\")\n",
        "      sys.exit(1)\n",
        "\n",
        "    numIterations = int((1 + (weightTest / ((memAllow * 1024.0) - weightTrain))))\n",
        "  return numIterations"
      ]
    },
    {
      "cell_type": "code",
      "execution_count": 12,
      "metadata": {
        "colab": {
          "base_uri": "https://localhost:8080/"
        },
        "id": "a3qkBexY3L9p",
        "outputId": "3f692614-5137-4ab1-9478-af9475377726"
      },
      "outputs": [
        {
          "output_type": "execute_result",
          "data": {
            "text/plain": [
              "MapPartitionsRDD[13] at mapPartitions at PythonRDD.scala:145"
            ]
          },
          "metadata": {},
          "execution_count": 12
        }
      ],
      "source": [
        "avail_mem = 0.2\n",
        "num_of_iter = calIter(numTrainSamples,numTestSamples,avail_mem) # get number  of iterations\n",
        "ts_rdd.partitionBy(num_of_iter,partitionFunc=range) # divide test dataset into num_of_iter parts"
      ]
    },
    {
      "cell_type": "code",
      "execution_count": 13,
      "metadata": {
        "id": "iuXY3lqligbj"
      },
      "outputs": [],
      "source": [
        "def computekNN(row,all_ts,k):\n",
        "  info = []\n",
        "  if(len(row) > 0):\n",
        "    point1 = np.array((row[1],row[2],row[3],row[4],row[5],row[6],row[7],row[8],row[9],row[10])) # row of training dataset \n",
        "    for i in range(0,len(all_ts)):\n",
        "      if(len(all_ts[i])>0):\n",
        "        point2 = np.array((all_ts[i][1],all_ts[i][2],all_ts[i][3],all_ts[i][4],all_ts[i][5],all_ts[i][6],all_ts[i][7],all_ts[i][8],all_ts[i][9],all_ts[i][10])) #row of test dataset\n",
        "        dist = np.linalg.norm(point1 - point2) # euclidean distance\n",
        "\n",
        "        info.append((all_ts[i][0],(dist,row[0]))) # return as list ((test_id,(distance,class)))\n",
        "  return info"
      ]
    },
    {
      "cell_type": "code",
      "execution_count": 14,
      "metadata": {
        "id": "c2-0C7WHtAX5"
      },
      "outputs": [],
      "source": [
        "def CombineResults(row): \n",
        "  #  input row : (key = test_id,value = [(distance1,class1),(distance2,class2),...,(distancen,classn)])\n",
        "  info = []\n",
        "  max_heap = [] # initialize heap to find top k\n",
        "  heapq._heapify_max(max_heap)\n",
        "  for i in row[1]:\n",
        "    heappush(max_heap,(i[0],i[1]))\n",
        "    if (len(max_heap) > k): # pop if exceed k size\n",
        "      heapq._heappop_max(max_heap)\n",
        "\n",
        "  count = collections.defaultdict(lambda: 0) # initialize dictionary to count voting for each class in top k\n",
        "  ans = -1\n",
        "  curr_max_count = 0 \n",
        "  for val in max_heap:\n",
        "    count[val[1]]+=1 # update count for each class\n",
        "    if(count[val[1]] > curr_max_count): # update answer if get more mejority voting\n",
        "      curr_max_count = count[val[1]]\n",
        "      ans = val[1]\n",
        "  return (row[0],ans) # (test_id,predicted_class)"
      ]
    },
    {
      "cell_type": "code",
      "execution_count": 15,
      "metadata": {
        "colab": {
          "base_uri": "https://localhost:8080/"
        },
        "id": "ATPMrhgogYxp",
        "outputId": "28aca612-c3ae-41a2-ee5d-06f911ad4326"
      },
      "outputs": [
        {
          "output_type": "stream",
          "name": "stdout",
          "text": [
            "[(50, 0), (100, 0), (150, 1), (200, 0), (250, 0), (300, 0), (350, 0), (400, 0), (450, 1), (500, 0), (550, 0), (600, 0), (650, 0), (700, 1), (750, 0), (800, 0), (850, 0), (900, 0), (950, 0), (1000, 0), (1050, 0), (1100, 0), (1150, 0), (1200, 0), (1250, 0), (1300, 0), (1350, 0), (1400, 0), (1450, 0), (1500, 0), (1550, 0), (1600, 0), (1650, 0), (1700, 0), (1750, 0), (1800, 0), (1850, 0), (1900, 0), (1950, 0), (1, 0), (51, 0), (101, 0), (151, 0), (201, 0), (251, 0), (301, 0), (351, 0), (401, 0), (451, 0), (501, 0), (551, 1), (601, 0), (651, 0), (701, 0), (751, 0), (801, 0), (851, 0), (901, 0), (951, 0), (1001, 0), (1051, 0), (1101, 1), (1151, 0), (1201, 0), (1251, 0), (1301, 0), (1351, 0), (1401, 0), (1451, 0), (1501, 0), (1551, 1), (1601, 0), (1651, 0), (1701, 0), (1751, 1), (1801, 0), (1851, 0), (1901, 0), (1951, 0), (2, 0), (52, 0), (102, 0), (152, 0), (202, 0), (252, 0), (302, 0), (352, 0), (402, 0), (452, 0), (502, 0), (552, 1), (602, 0), (652, 0), (702, 0), (752, 0), (802, 0), (852, 0), (902, 0), (952, 0), (1002, 0), (1052, 1), (1102, 0), (1152, 0), (1202, 0), (1252, 0), (1302, 0), (1352, 0), (1402, 0), (1452, 0), (1502, 0), (1552, 0), (1602, 0), (1652, 0), (1702, 0), (1752, 0), (1802, 0), (1852, 0), (1902, 1), (1952, 0), (3, 0), (53, 0), (103, 0), (153, 0), (203, 0), (253, 1), (303, 0), (353, 0), (403, 1), (453, 0), (503, 0), (553, 0), (603, 0), (653, 1), (703, 0), (753, 0), (803, 0), (853, 0), (903, 0), (953, 0), (1003, 0), (1053, 0), (1103, 0), (1153, 0), (1203, 1), (1253, 1), (1303, 1), (1353, 0), (1403, 0), (1453, 0), (1503, 0), (1553, 0), (1603, 0), (1653, 0), (1703, 0), (1753, 0), (1803, 0), (1853, 0), (1903, 0), (1953, 0), (4, 1), (54, 0), (104, 1), (154, 0), (204, 1), (254, 0), (304, 0), (354, 0), (404, 0), (454, 0), (504, 0), (554, 1), (604, 1), (654, 0), (704, 0), (754, 0), (804, 0), (854, 0), (904, 0), (954, 0), (1004, 0), (1054, 0), (1104, 0), (1154, 0), (1204, 0), (1254, 0), (1304, 0), (1354, 0), (1404, 0), (1454, 0), (1504, 0), (1554, 0), (1604, 0), (1654, 1), (1704, 1), (1754, 0), (1804, 0), (1854, 0), (1904, 0), (1954, 0), (5, 2), (55, 0), (105, 1), (155, 0), (205, 0), (255, 0), (305, 0), (355, 0), (405, 0), (455, 1), (505, 0), (555, 1), (605, 1), (655, 0), (705, 0), (755, 0), (805, 0), (855, 0), (905, 1), (955, 0), (1005, 0), (1055, 0), (1105, 0), (1155, 0), (1205, 0), (1255, 1), (1305, 0), (1355, 0), (1405, 1), (1455, 0), (1505, 0), (1555, 0), (1605, 0), (1655, 0), (1705, 0), (1755, 0), (1805, 1), (1855, 0), (1905, 0), (1955, 0), (6, 0), (56, 0), (106, 0), (156, 0), (206, 0), (256, 0), (306, 0), (356, 0), (406, 0), (456, 0), (506, 0), (556, 0), (606, 0), (656, 0), (706, 1), (756, 0), (806, 0), (856, 1), (906, 0), (956, 1), (1006, 0), (1056, 0), (1106, 0), (1156, 0), (1206, 0), (1256, 0), (1306, 0), (1356, 0), (1406, 0), (1456, 0), (1506, 0), (1556, 0), (1606, 0), (1656, 0), (1706, 0), (1756, 0), (1806, 0), (1856, 0), (1906, 0), (1956, 0), (7, 0), (57, 1), (107, 0), (157, 0), (207, 1), (257, 0), (307, 0), (357, 0), (407, 0), (457, 0), (507, 0), (557, 0), (607, 0), (657, 0), (707, 0), (757, 0), (807, 0), (857, 0), (907, 0), (957, 0), (1007, 0), (1057, 0), (1107, 0), (1157, 0), (1207, 0), (1257, 0), (1307, 0), (1357, 0), (1407, 0), (1457, 0), (1507, 0), (1557, 0), (1607, 1), (1657, 0), (1707, 0), (1757, 1), (1807, 0), (1857, 0), (1907, 0), (1957, 0), (8, 1), (58, 0), (108, 0), (158, 0), (208, 0), (258, 0), (308, 0), (358, 0), (408, 1), (458, 0), (508, 0), (558, 0), (608, 0), (658, 0), (708, 0), (758, 0), (808, 0), (858, 1), (908, 0), (958, 0), (1008, 0), (1058, 0), (1108, 0), (1158, 0), (1208, 0), (1258, 0), (1308, 0), (1358, 0), (1408, 1), (1458, 0), (1508, 0), (1558, 0), (1608, 0), (1658, 0), (1708, 0), (1758, 0), (1808, 0), (1858, 1), (1908, 0), (1958, 1), (9, 0), (59, 0), (109, 0), (159, 0), (209, 0), (259, 0), (309, 0), (359, 0), (409, 0), (459, 0), (509, 0), (559, 0), (609, 1), (659, 0), (709, 0), (759, 0), (809, 0), (859, 0), (909, 0), (959, 0), (1009, 0), (1059, 0), (1109, 0), (1159, 0), (1209, 0), (1259, 0), (1309, 1), (1359, 0), (1409, 0), (1459, 0), (1509, 0), (1559, 0), (1609, 0), (1659, 0), (1709, 0), (1759, 0), (1809, 0), (1859, 0), (1909, 0), (1959, 0), (10, 0), (60, 0), (110, 0), (160, 0), (210, 0), (260, 0), (310, 0), (360, 0), (410, 0), (460, 0), (510, 1), (560, 0), (610, 0), (660, 0), (710, 0), (760, 0), (810, 0), (860, 0), (910, 0), (960, 0), (1010, 0), (1060, 0), (1110, 0), (1160, 1), (1210, 0), (1260, 0), (1310, 0), (1360, 0), (1410, 0), (1460, 1), (1510, 1), (1560, 0), (1610, 0), (1660, 0), (1710, 0), (1760, 0), (1810, 0), (1860, 0), (1910, 0), (1960, 0), (11, 0), (61, 0), (111, 0), (161, 0), (211, 0), (261, 0), (311, 0), (361, 0), (411, 0), (461, 0), (511, 0), (561, 0), (611, 0), (661, 0), (711, 0), (761, 0), (811, 0), (861, 0), (911, 0), (961, 0), (1011, 0), (1061, 0), (1111, 0), (1161, 0), (1211, 0), (1261, 0), (1311, 0), (1361, 0), (1411, 0), (1461, 1), (1511, 0), (1561, 0), (1611, 0), (1661, 0), (1711, 0), (1761, 0), (1811, 0), (1861, 0), (1911, 0), (1961, 0), (12, 0), (62, 0), (112, 0), (162, 0), (212, 0), (262, 0), (312, 0), (362, 0), (412, 0), (462, 0), (512, 0), (562, 0), (612, 0), (662, 0), (712, 0), (762, 0), (812, 1), (862, 0), (912, 0), (962, 0), (1012, 0), (1062, 0), (1112, 0), (1162, 0), (1212, 0), (1262, 0), (1312, 0), (1362, 0), (1412, 0), (1462, 0), (1512, 0), (1562, 0), (1612, 1), (1662, 0), (1712, 0), (1762, 0), (1812, 1), (1862, 0), (1912, 0), (1962, 0), (13, 0), (63, 0), (113, 0), (163, 0), (213, 0), (263, 0), (313, 0), (363, 0), (413, 0), (463, 0), (513, 0), (563, 0), (613, 0), (663, 0), (713, 0), (763, 0), (813, 1), (863, 0), (913, 0), (963, 1), (1013, 0), (1063, 0), (1113, 0), (1163, 1), (1213, 0), (1263, 0), (1313, 0), (1363, 0), (1413, 0), (1463, 0), (1513, 0), (1563, 0), (1613, 0), (1663, 0), (1713, 0), (1763, 1), (1813, 0), (1863, 0), (1913, 0), (1963, 0), (14, 1), (64, 0), (114, 0), (164, 0), (214, 0), (264, 0), (314, 1), (364, 0), (414, 0), (464, 0), (514, 0), (564, 0), (614, 0), (664, 0), (714, 0), (764, 0), (814, 0), (864, 0), (914, 0), (964, 0), (1014, 0), (1064, 0), (1114, 0), (1164, 0), (1214, 1), (1264, 1), (1314, 0), (1364, 1), (1414, 0), (1464, 0), (1514, 1), (1564, 1), (1614, 1), (1664, 0), (1714, 0), (1764, 0), (1814, 0), (1864, 0), (1914, 0), (1964, 0), (15, 0), (65, 0), (115, 0), (165, 0), (215, 0), (265, 0), (315, 0), (365, 0), (415, 0), (465, 1), (515, 0), (565, 0), (615, 0), (665, 0), (715, 0), (765, 0), (815, 0), (865, 0), (915, 0), (965, 1), (1015, 1), (1065, 0), (1115, 0), (1165, 0), (1215, 0), (1265, 0), (1315, 0), (1365, 0), (1415, 0), (1465, 1), (1515, 0), (1565, 0), (1615, 0), (1665, 1), (1715, 0), (1765, 0), (1815, 0), (1865, 0), (1915, 0), (1965, 0), (16, 0), (66, 0), (116, 1), (166, 0), (216, 0), (266, 0), (316, 0), (366, 0), (416, 0), (466, 0), (516, 0), (566, 0), (616, 0), (666, 0), (716, 0), (766, 0), (816, 0), (866, 0), (916, 0), (966, 0), (1016, 0), (1066, 0), (1116, 0), (1166, 0), (1216, 0), (1266, 0), (1316, 0), (1366, 0), (1416, 0), (1466, 0), (1516, 0), (1566, 0), (1616, 0), (1666, 1), (1716, 0), (1766, 1), (1816, 0), (1866, 0), (1916, 0), (1966, 0), (17, 0), (67, 1), (117, 0), (167, 0), (217, 0), (267, 0), (317, 0), (367, 0), (417, 0), (467, 0), (517, 0), (567, 0), (617, 0), (667, 1), (717, 0), (767, 0), (817, 0), (867, 0), (917, 0), (967, 1), (1017, 0), (1067, 0), (1117, 0), (1167, 0), (1217, 1), (1267, 0), (1317, 0), (1367, 0), (1417, 0), (1467, 1), (1517, 0), (1567, 0), (1617, 0), (1667, 0), (1717, 0), (1767, 0), (1817, 0), (1867, 0), (1917, 0), (1967, 0), (18, 0), (68, 0), (118, 0), (168, 0), (218, 0), (268, 0), (318, 0), (368, 0), (418, 0), (468, 0), (518, 1), (568, 0), (618, 0), (668, 0), (718, 0), (768, 1), (818, 0), (868, 1), (918, 0), (968, 1), (1018, 0), (1068, 0), (1118, 0), (1168, 0), (1218, 0), (1268, 0), (1318, 0), (1368, 0), (1418, 0), (1468, 0), (1518, 1), (1568, 0), (1618, 0), (1668, 0), (1718, 0), (1768, 0), (1818, 0), (1868, 0), (1918, 0), (1968, 1), (19, 0), (69, 0), (119, 0), (169, 0), (219, 0), (269, 0), (319, 0), (369, 0), (419, 0), (469, 0), (519, 0), (569, 0), (619, 1), (669, 0), (719, 0), (769, 0), (819, 0), (869, 0), (919, 0), (969, 0), (1019, 0), (1069, 1), (1119, 0), (1169, 0), (1219, 0), (1269, 0), (1319, 0), (1369, 0), (1419, 0), (1469, 0), (1519, 0), (1569, 0), (1619, 1), (1669, 0), (1719, 0), (1769, 0), (1819, 0), (1869, 0), (1919, 0), (1969, 0), (20, 0), (70, 0), (120, 0), (170, 0), (220, 0), (270, 0), (320, 0), (370, 0), (420, 0), (470, 0), (520, 0), (570, 0), (620, 0), (670, 0), (720, 0), (770, 0), (820, 0), (870, 0), (920, 0), (970, 0), (1020, 0), (1070, 1), (1120, 0), (1170, 0), (1220, 1), (1270, 0), (1320, 0), (1370, 0), (1420, 1), (1470, 0), (1520, 0), (1570, 0), (1620, 0), (1670, 0), (1720, 0), (1770, 0), (1820, 0), (1870, 0), (1920, 0), (1970, 0), (21, 0), (71, 0), (121, 0), (171, 0), (221, 0), (271, 0), (321, 0), (371, 1), (421, 0), (471, 0), (521, 0), (571, 0), (621, 0), (671, 0), (721, 1), (771, 0), (821, 0), (871, 0), (921, 0), (971, 0), (1021, 1), (1071, 0), (1121, 0), (1171, 0), (1221, 0), (1271, 0), (1321, 1), (1371, 0), (1421, 0), (1471, 1), (1521, 0), (1571, 0), (1621, 0), (1671, 0), (1721, 0), (1771, 1), (1821, 0), (1871, 1), (1921, 0), (1971, 0), (22, 0), (72, 0), (122, 0), (172, 0), (222, 0), (272, 0), (322, 0), (372, 1), (422, 0), (472, 0), (522, 0), (572, 0), (622, 0), (672, 0), (722, 0), (772, 0), (822, 1), (872, 0), (922, 0), (972, 0), (1022, 0), (1072, 0), (1122, 0), (1172, 0), (1222, 0), (1272, 0), (1322, 0), (1372, 0), (1422, 0), (1472, 0), (1522, 1), (1572, 0), (1622, 0), (1672, 0), (1722, 0), (1772, 0), (1822, 0), (1872, 0), (1922, 0), (1972, 0), (23, 0), (73, 1), (123, 0), (173, 1), (223, 0), (273, 0), (323, 0), (373, 0), (423, 0), (473, 0), (523, 0), (573, 0), (623, 0), (673, 0), (723, 0), (773, 0), (823, 0), (873, 0), (923, 0), (973, 0), (1023, 0), (1073, 0), (1123, 1), (1173, 0), (1223, 0), (1273, 0), (1323, 0), (1373, 0), (1423, 0), (1473, 0), (1523, 0), (1573, 0), (1623, 0), (1673, 1), (1723, 0), (1773, 0), (1823, 0), (1873, 0), (1923, 0), (1973, 0), (24, 0), (74, 0), (124, 0), (174, 0), (224, 0), (274, 0), (324, 0), (374, 0), (424, 0), (474, 0), (524, 0), (574, 0), (624, 0), (674, 0), (724, 0), (774, 0), (824, 0), (874, 0), (924, 0), (974, 0), (1024, 0), (1074, 0), (1124, 0), (1174, 0), (1224, 0), (1274, 0), (1324, 0), (1374, 0), (1424, 0), (1474, 0), (1524, 1), (1574, 1), (1624, 0), (1674, 0), (1724, 0), (1774, 0), (1824, 0), (1874, 1), (1924, 0), (1974, 0), (25, 0)]\n"
          ]
        }
      ],
      "source": [
        "broad_cast_data = ts_rdd.glom().collect() # collect list of distributed object\n",
        "k = 10 # set k values\n",
        "for ts_data in broad_cast_data: \n",
        "  resultkNN = tr_rdd.flatMap(lambda line : computekNN(line,ts_data,k))  # flatmap return -> list of((test_id,(distance,class)))\n",
        "  res = resultkNN.groupByKey().mapValues(list)  # grouping it by key return -> list of((key = test_id,value = list of((distance,class))))\n",
        "  get_ans = res.map(lambda line : CombineResults(line)) # return -> list of((test_id,predicted class))\n",
        "  print(get_ans.take(1000))"
      ]
    },
    {
      "cell_type": "code",
      "execution_count": null,
      "metadata": {
        "id": "qukehqyq2rhA"
      },
      "outputs": [],
      "source": [
        "sc.stop()"
      ]
    }
  ],
  "metadata": {
    "colab": {
      "provenance": []
    },
    "kernelspec": {
      "display_name": "Python 3",
      "name": "python3"
    },
    "language_info": {
      "name": "python"
    }
  },
  "nbformat": 4,
  "nbformat_minor": 0
}